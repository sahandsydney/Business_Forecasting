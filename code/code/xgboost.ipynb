{
 "cells": [
  {
   "attachments": {},
   "cell_type": "markdown",
   "metadata": {},
   "source": [
    "Using py 3.11.0"
   ]
  },
  {
   "cell_type": "code",
   "execution_count": 6,
   "metadata": {},
   "outputs": [],
   "source": [
    "import pandas as pd"
   ]
  },
  {
   "cell_type": "code",
   "execution_count": 7,
   "metadata": {},
   "outputs": [
    {
     "data": {
      "text/plain": [
       "years\n",
       "2022-03-01    6813.40\n",
       "2021-03-01    5080.79\n",
       "2020-03-01    6547.80\n",
       "2019-03-01    8132.30\n",
       "2018-03-01    2868.05\n",
       "2017-03-01    5464.95\n",
       "2016-03-01    6488.49\n",
       "2015-03-01    4346.06\n",
       "2014-03-01    1869.11\n",
       "2013-03-01    2977.21\n",
       "2012-03-01    2789.05\n",
       "2011-03-01    2285.10\n",
       "2010-03-01    2772.58\n",
       "2009-03-01    1447.37\n",
       "2008-03-01    1157.82\n",
       "2007-03-01    1053.17\n",
       "2006-03-01     780.28\n",
       "2005-03-01     672.83\n",
       "2004-03-01     538.67\n",
       "Name: Total Current Liabilities, dtype: float64"
      ]
     },
     "execution_count": 7,
     "metadata": {},
     "output_type": "execute_result"
    }
   ],
   "source": [
    "#preparing dataset like for sarimax\n",
    "df = pd.read_csv(\"..\\\\data\\\\processed_balance_sheet.csv\")\n",
    "df = df[df.columns[1:]]\n",
    "df['years'] = pd.to_datetime(df['years'],infer_datetime_format=True)\n",
    "df = df.set_index(['years'])\n",
    "df = df['Total Current Liabilities']\n",
    "df"
   ]
  },
  {
   "cell_type": "code",
   "execution_count": 8,
   "metadata": {},
   "outputs": [
    {
     "name": "stdout",
     "output_type": "stream",
     "text": [
      "Input: [5080.79 6547.8  8132.3  2868.05 5464.95 6488.49 4346.06 1869.11 2977.21\n",
      " 2789.05 2285.1  2772.58 1447.37 1157.82 1053.17  780.28  672.83  538.67], Predicted: 538.670\n"
     ]
    }
   ],
   "source": [
    "from numpy import asarray\n",
    "from pandas import DataFrame\n",
    "from pandas import concat\n",
    "from xgboost import XGBRegressor\n",
    " \n",
    "# transform a time series dataset into a supervised learning dataset\n",
    "def series_to_supervised(data, n_in=1, n_out=1, dropnan=True):\n",
    "    #n_vars = 1 if type(data) is list else data.shape[1]\n",
    "    df = DataFrame(data)\n",
    "    cols = list()\n",
    "    # input sequence (t-n, ... t-1)\n",
    "    for i in range(n_in, 0, -1):\n",
    "        cols.append(df.shift(i))\n",
    "    # forecast sequence (t, t+1, ... t+n)\n",
    "    for i in range(0, n_out):\n",
    "        cols.append(df.shift(-i))\n",
    "    # put it all together\n",
    "    agg = concat(cols, axis=1)\n",
    "    # drop rows with NaN values\n",
    "    if dropnan:\n",
    "        agg.dropna(inplace=True)\n",
    "    return agg.values\n",
    " \n",
    "# load the dataset\n",
    "series = df\n",
    "values = series.values\n",
    "# transform the time series data into supervised learning\n",
    "train = series_to_supervised(values, n_in=18)\n",
    "# split into input and output columns\n",
    "trainX, trainy = train[:, :-1], train[:, -1]\n",
    "# fit model\n",
    "model = XGBRegressor(objective='reg:squarederror', n_estimators=1000)\n",
    "model.fit(trainX, trainy)\n",
    "# construct an input for a new preduction\n",
    "row = values[-18:].flatten()\n",
    "# make a one-step prediction\n",
    "yhat = model.predict(asarray([row]))\n",
    "print('Input: %s, Predicted: %.3f' % (row, yhat[0]))"
   ]
  },
  {
   "cell_type": "code",
   "execution_count": 9,
   "metadata": {},
   "outputs": [
    {
     "data": {
      "text/plain": [
       "\"series.plot(figsize=(10, 5), title='Total Current Liabilities')\""
      ]
     },
     "execution_count": 9,
     "metadata": {},
     "output_type": "execute_result"
    }
   ],
   "source": [
    "\"\"\"series.plot(figsize=(10, 5), title='Total Current Liabilities')\"\"\""
   ]
  },
  {
   "cell_type": "code",
   "execution_count": 10,
   "metadata": {},
   "outputs": [
    {
     "name": "stdout",
     "output_type": "stream",
     "text": [
      "Unexpected exception formatting exception. Falling back to standard exception\n"
     ]
    },
    {
     "name": "stderr",
     "output_type": "stream",
     "text": [
      "Traceback (most recent call last):\n",
      "  File \"pandas\\_libs\\tslibs\\parsing.pyx\", line 440, in pandas._libs.tslibs.parsing.parse_datetime_string_with_reso\n",
      "  File \"pandas\\_libs\\tslibs\\parsing.pyx\", line 649, in pandas._libs.tslibs.parsing.dateutil_parse\n",
      "ValueError: Unknown datetime string format, unable to parse: Total Current Liabilities\n",
      "\n",
      "During handling of the above exception, another exception occurred:\n",
      "\n",
      "Traceback (most recent call last):\n",
      "  File \"c:\\Python311\\Lib\\site-packages\\pandas\\core\\indexes\\datetimes.py\", line 704, in get_loc\n",
      "    parsed, reso = self._parse_with_reso(key)\n",
      "                   ^^^^^^^^^^^^^^^^^^^^^^^^^^\n",
      "  File \"c:\\Python311\\Lib\\site-packages\\pandas\\core\\indexes\\datetimelike.py\", line 230, in _parse_with_reso\n",
      "    parsed, reso_str = parsing.parse_time_string(label, freq)\n",
      "                       ^^^^^^^^^^^^^^^^^^^^^^^^^^^^^^^^^^^^^^\n",
      "  File \"pandas\\_libs\\tslibs\\parsing.pyx\", line 367, in pandas._libs.tslibs.parsing.parse_time_string\n",
      "  File \"pandas\\_libs\\tslibs\\parsing.pyx\", line 445, in pandas._libs.tslibs.parsing.parse_datetime_string_with_reso\n",
      "pandas._libs.tslibs.parsing.DateParseError: Unknown datetime string format, unable to parse: Total Current Liabilities\n",
      "\n",
      "The above exception was the direct cause of the following exception:\n",
      "\n",
      "Traceback (most recent call last):\n",
      "  File \"C:\\Users\\rahul\\AppData\\Roaming\\Python\\Python311\\site-packages\\IPython\\core\\interactiveshell.py\", line 3460, in run_code\n",
      "    exec(code_obj, self.user_global_ns, self.user_ns)\n",
      "  File \"C:\\Users\\rahul\\AppData\\Local\\Temp\\ipykernel_5792\\1999166501.py\", line 8, in <module>\n",
      "    df[f\"Lag{i}\"] = df[\"Total Current Liabilities\"].shift(i)\n",
      "                    ~~^^^^^^^^^^^^^^^^^^^^^^^^^^^^^\n",
      "  File \"c:\\Python311\\Lib\\site-packages\\pandas\\core\\series.py\", line 981, in __getitem__\n",
      "    return self._get_value(key)\n",
      "           ^^^^^^^^^^^^^^^^^^^^\n",
      "  File \"c:\\Python311\\Lib\\site-packages\\pandas\\core\\series.py\", line 1089, in _get_value\n",
      "    loc = self.index.get_loc(label)\n",
      "          ^^^^^^^^^^^^^^^^^^^^^^^^^\n",
      "  File \"c:\\Python311\\Lib\\site-packages\\pandas\\core\\indexes\\datetimes.py\", line 706, in get_loc\n",
      "    raise KeyError(key) from err\n",
      "KeyError: 'Total Current Liabilities'\n",
      "\n",
      "During handling of the above exception, another exception occurred:\n",
      "\n",
      "Traceback (most recent call last):\n",
      "  File \"C:\\Users\\rahul\\AppData\\Roaming\\Python\\Python311\\site-packages\\IPython\\core\\interactiveshell.py\", line 2057, in showtraceback\n",
      "    stb = self.InteractiveTB.structured_traceback(\n",
      "          ^^^^^^^^^^^^^^^^^^^^^^^^^^^^^^^^^^^^^^^^\n",
      "  File \"C:\\Users\\rahul\\AppData\\Roaming\\Python\\Python311\\site-packages\\IPython\\core\\ultratb.py\", line 1288, in structured_traceback\n",
      "    return FormattedTB.structured_traceback(\n",
      "           ^^^^^^^^^^^^^^^^^^^^^^^^^^^^^^^^^\n",
      "  File \"C:\\Users\\rahul\\AppData\\Roaming\\Python\\Python311\\site-packages\\IPython\\core\\ultratb.py\", line 1177, in structured_traceback\n",
      "    return VerboseTB.structured_traceback(\n",
      "           ^^^^^^^^^^^^^^^^^^^^^^^^^^^^^^^\n",
      "  File \"C:\\Users\\rahul\\AppData\\Roaming\\Python\\Python311\\site-packages\\IPython\\core\\ultratb.py\", line 1049, in structured_traceback\n",
      "    formatted_exceptions += self.format_exception_as_a_whole(etype, evalue, etb, lines_of_context,\n",
      "                            ^^^^^^^^^^^^^^^^^^^^^^^^^^^^^^^^^^^^^^^^^^^^^^^^^^^^^^^^^^^^^^^^^^^^^^\n",
      "  File \"C:\\Users\\rahul\\AppData\\Roaming\\Python\\Python311\\site-packages\\IPython\\core\\ultratb.py\", line 935, in format_exception_as_a_whole\n",
      "    self.get_records(etb, number_of_lines_of_context, tb_offset) if etb else []\n",
      "    ^^^^^^^^^^^^^^^^^^^^^^^^^^^^^^^^^^^^^^^^^^^^^^^^^^^^^^^^^^^^\n",
      "  File \"C:\\Users\\rahul\\AppData\\Roaming\\Python\\Python311\\site-packages\\IPython\\core\\ultratb.py\", line 1003, in get_records\n",
      "    lines, first = inspect.getsourcelines(etb.tb_frame)\n",
      "                   ^^^^^^^^^^^^^^^^^^^^^^^^^^^^^^^^^^^^\n",
      "  File \"c:\\Python311\\Lib\\inspect.py\", line 1252, in getsourcelines\n",
      "    lines, lnum = findsource(object)\n",
      "                  ^^^^^^^^^^^^^^^^^^\n",
      "  File \"c:\\Python311\\Lib\\inspect.py\", line 1081, in findsource\n",
      "    raise OSError('could not get source code')\n",
      "OSError: could not get source code\n"
     ]
    }
   ],
   "source": [
    "#from pandas import DataFrame\n",
    "from xgboost import XGBRegressor\n",
    "import matplotlib.pyplot as plt\n",
    "\n",
    "# Add lag features\n",
    "lags = 10\n",
    "for i in range(1, lags+1):\n",
    "    df[f\"Lag{i}\"] = df[\"Total Current Liabilities\"].shift(i)\n",
    "\n",
    "# Split into train/test sets\n",
    "train_size = int(len(df) * 0.8)\n",
    "train, test = df.iloc[:train_size], df.iloc[train_size:]\n",
    "\n",
    "# Define the XGBoost model\n",
    "model = XGBRegressor(n_estimators=100, max_depth=5)\n",
    "\n",
    "# Train the model on the training set\n",
    "X_train, y_train = train.iloc[:, 1:], train.iloc[:, 0]\n",
    "model.fit(X_train, y_train)\n",
    "\n",
    "# Predict the next 10 years of total current liabilities\n",
    "X_test = test.iloc[-lags:, 1:]\n",
    "preds = []\n",
    "for i in range(10):\n",
    "    pred = model.predict(X_test.iloc[-lags:, :])\n",
    "    preds.append(pred[-1])\n",
    "    X_test = X_test.shift(-1)\n",
    "    X_test.iloc[-1, -lags:] = pred\n",
    "\n",
    "# Combine the original data with the predicted values\n",
    "index = pd.date_range(start=df.index[-1], periods=11, freq=\"AS\")\n",
    "pred_df = pd.DataFrame(data=preds, index=index[1:], columns=[\"Total Current Liabilities\"])\n",
    "df_extended = pd.concat([df, pred_df])\n",
    "\n",
    "# Print the predicted values\n",
    "print(df_extended.tail(11)[\"Total Current Liabilities\"])\n",
    "\n",
    "# Plot the graph\n",
    "plt.plot(df[\"Total Current Liabilities\"], color=\"blue\")\n",
    "plt.plot(df_extended[\"Total Current Liabilities\"], color=\"red\")\n",
    "plt.title(\"Total Current Liabilities\")\n",
    "plt.xlabel(\"Year\")\n",
    "plt.ylabel(\"Amount (in millions)\")\n",
    "plt.show()\n"
   ]
  }
 ],
 "metadata": {
  "kernelspec": {
   "display_name": "Python 3",
   "language": "python",
   "name": "python3"
  },
  "language_info": {
   "codemirror_mode": {
    "name": "ipython",
    "version": 3
   },
   "file_extension": ".py",
   "mimetype": "text/x-python",
   "name": "python",
   "nbconvert_exporter": "python",
   "pygments_lexer": "ipython3",
   "version": "3.11.0"
  },
  "orig_nbformat": 4
 },
 "nbformat": 4,
 "nbformat_minor": 2
}
